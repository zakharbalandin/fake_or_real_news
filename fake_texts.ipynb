{
  "nbformat": 4,
  "nbformat_minor": 0,
  "metadata": {
    "colab": {
      "provenance": []
    },
    "kernelspec": {
      "name": "python3",
      "display_name": "Python 3"
    },
    "language_info": {
      "name": "python"
    }
  },
  "cells": [
    {
      "cell_type": "code",
      "execution_count": 5,
      "metadata": {
        "id": "P8HhS_kcfYyn"
      },
      "outputs": [],
      "source": [
        "import pandas as pd\n",
        "from sklearn.model_selection import train_test_split\n",
        "from sklearn.feature_extraction.text import TfidfVectorizer\n",
        "from sklearn.metrics import accuracy_score, classification_report\n",
        "from sklearn.pipeline import Pipeline\n",
        "from sklearn.linear_model import LogisticRegression\n",
        "from sklearn.naive_bayes import MultinomialNB\n",
        "import xgboost as xgb\n",
        "\n",
        "# Загрузка данных\n",
        "data = pd.read_csv('fake_or_real_news.csv')\n",
        "\n",
        "# Разделение данных на признаки (текст) и метки (label)\n",
        "X = data['text']\n",
        "y = data['label']\n",
        "\n",
        "# Разделение на тренировочную и тестовую выборки\n",
        "X_train, X_test, y_train, y_test = train_test_split(X, y, test_size=0.2, random_state=42)\n",
        "\n",
        "# Векторизация текста с помощью TF-IDF\n",
        "tfidf_vectorizer = TfidfVectorizer(stop_words='english', max_df=0.7)\n",
        "\n",
        "X_train_tfidf = tfidf_vectorizer.fit_transform(X_train)\n",
        "X_test_tfidf = tfidf_vectorizer.transform(X_test)\n"
      ]
    },
    {
      "cell_type": "code",
      "source": [
        "# Модель логистической регрессии\n",
        "lr_model = LogisticRegression(max_iter=1000)\n",
        "lr_model.fit(X_train_tfidf, y_train)\n",
        "\n",
        "# Предсказание и оценка модели\n",
        "y_pred_lr = lr_model.predict(X_test_tfidf)\n",
        "print(\"Logistic Regression Accuracy: \", accuracy_score(y_test, y_pred_lr))\n",
        "print(classification_report(y_test, y_pred_lr))\n"
      ],
      "metadata": {
        "colab": {
          "base_uri": "https://localhost:8080/"
        },
        "id": "YnYboKDlfsiF",
        "outputId": "baca59ea-491e-4517-f3d1-00d9ec701a2e"
      },
      "execution_count": 6,
      "outputs": [
        {
          "output_type": "stream",
          "name": "stdout",
          "text": [
            "Logistic Regression Accuracy:  0.9155485398579322\n",
            "              precision    recall  f1-score   support\n",
            "\n",
            "        FAKE       0.90      0.93      0.92       628\n",
            "        REAL       0.93      0.90      0.91       639\n",
            "\n",
            "    accuracy                           0.92      1267\n",
            "   macro avg       0.92      0.92      0.92      1267\n",
            "weighted avg       0.92      0.92      0.92      1267\n",
            "\n"
          ]
        }
      ]
    },
    {
      "cell_type": "code",
      "source": [
        "# Модель наивного Байеса\n",
        "nb_model = MultinomialNB()\n",
        "nb_model.fit(X_train_tfidf, y_train)\n",
        "\n",
        "# Предсказание и оценка модели\n",
        "y_pred_nb = nb_model.predict(X_test_tfidf)\n",
        "print(\"Naive Bayes Accuracy: \", accuracy_score(y_test, y_pred_nb))\n",
        "print(classification_report(y_test, y_pred_nb))\n"
      ],
      "metadata": {
        "colab": {
          "base_uri": "https://localhost:8080/"
        },
        "id": "mqCRhbWufvC7",
        "outputId": "6364017a-765d-4ea7-da77-11bf8501a05c"
      },
      "execution_count": 7,
      "outputs": [
        {
          "output_type": "stream",
          "name": "stdout",
          "text": [
            "Naive Bayes Accuracy:  0.8453038674033149\n",
            "              precision    recall  f1-score   support\n",
            "\n",
            "        FAKE       0.98      0.71      0.82       628\n",
            "        REAL       0.77      0.98      0.87       639\n",
            "\n",
            "    accuracy                           0.85      1267\n",
            "   macro avg       0.87      0.84      0.84      1267\n",
            "weighted avg       0.87      0.85      0.84      1267\n",
            "\n"
          ]
        }
      ]
    },
    {
      "cell_type": "code",
      "source": [
        "# Преобразование меток в числовой формат\n",
        "data['label'] = data['label'].map({'FAKE': 0, 'REAL': 1})\n",
        "\n",
        "# Разделение данных на признаки (текст) и метки (label)\n",
        "X = data['text']\n",
        "y = data['label']\n",
        "\n",
        "# Разделение на тренировочную и тестовую выборки\n",
        "X_train, X_test, y_train, y_test = train_test_split(X, y, test_size=0.2, random_state=42)\n",
        "\n",
        "# Векторизация текста с помощью TF-IDF\n",
        "tfidf_vectorizer = TfidfVectorizer(stop_words='english', max_df=0.7)\n",
        "\n",
        "X_train_tfidf = tfidf_vectorizer.fit_transform(X_train)\n",
        "X_test_tfidf = tfidf_vectorizer.transform(X_test)\n",
        "\n",
        "# Преобразование данных в формат DMatrix для XGBoost\n",
        "dtrain = xgb.DMatrix(X_train_tfidf, label=y_train)\n",
        "dtest = xgb.DMatrix(X_test_tfidf, label=y_test)\n",
        "\n",
        "# Параметры модели\n",
        "params = {\n",
        "    'objective': 'binary:logistic',\n",
        "    'max_depth': 6,\n",
        "    'learning_rate': 0.1,\n",
        "    'n_estimators': 100\n",
        "}\n",
        "\n",
        "# Обучение модели\n",
        "xgb_model = xgb.train(params, dtrain, num_boost_round=100)\n",
        "\n",
        "# Предсказание и оценка модели\n",
        "y_pred_xgb = (xgb_model.predict(dtest) > 0.5).astype(int)\n",
        "print(\"XGBoost Accuracy: \", accuracy_score(y_test, y_pred_xgb))\n",
        "print(classification_report(y_test, y_pred_xgb))\n"
      ],
      "metadata": {
        "colab": {
          "base_uri": "https://localhost:8080/"
        },
        "id": "xk6dgm6Rgcq-",
        "outputId": "fe9ecb04-56e4-47a8-8c11-d7d26aa95ff3"
      },
      "execution_count": 13,
      "outputs": [
        {
          "output_type": "stream",
          "name": "stderr",
          "text": [
            "/usr/local/lib/python3.10/dist-packages/xgboost/core.py:158: UserWarning: [12:37:08] WARNING: /workspace/src/learner.cc:740: \n",
            "Parameters: { \"n_estimators\" } are not used.\n",
            "\n",
            "  warnings.warn(smsg, UserWarning)\n"
          ]
        },
        {
          "output_type": "stream",
          "name": "stdout",
          "text": [
            "XGBoost Accuracy:  0.9123914759273876\n",
            "              precision    recall  f1-score   support\n",
            "\n",
            "           0       0.91      0.91      0.91       628\n",
            "           1       0.92      0.91      0.91       639\n",
            "\n",
            "    accuracy                           0.91      1267\n",
            "   macro avg       0.91      0.91      0.91      1267\n",
            "weighted avg       0.91      0.91      0.91      1267\n",
            "\n"
          ]
        }
      ]
    },
    {
      "cell_type": "code",
      "source": [],
      "metadata": {
        "id": "5XtlutMOjKbb"
      },
      "execution_count": null,
      "outputs": []
    }
  ]
}