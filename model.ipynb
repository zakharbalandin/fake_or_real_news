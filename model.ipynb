{
 "cells": [
  {
   "cell_type": "code",
   "execution_count": 2,
   "metadata": {},
   "outputs": [],
   "source": [
    "from sklearn.model_selection import GridSearchCV, StratifiedKFold\n",
    "from sklearn.linear_model import LogisticRegression\n",
    "import pickle\n",
    "import pandas as pd\n",
    "from sklearn.feature_extraction.text import TfidfVectorizer\n",
    "from sklearn.pipeline import make_pipeline\n",
    "from sklearn.preprocessing import LabelEncoder\n",
    "\n",
    "# Загрузка данных (замените на свой код загрузки данных)\n",
    "df = pd.read_csv('fake_or_real_news.csv')\n",
    "\n",
    "# Преобразование текстов в TF-IDF признаки\n",
    "vectorizer = TfidfVectorizer()\n",
    "X = vectorizer.fit_transform(df['text'])\n",
    "y = LabelEncoder().fit_transform(df['label'])\n",
    "\n",
    "# Разделение данных на обучающую и тестовую выборки\n",
    "from sklearn.model_selection import train_test_split\n",
    "X_train_tfidf, X_test_tfidf, y_train, y_test = train_test_split(X, y, test_size=0.2, random_state=42)\n",
    "\n",
    "# Определение сетки гиперпараметров для логистической регрессии\n",
    "param_grid_lr = {\n",
    "    'C': [0.01, 0.1, 1, 10, 100],\n",
    "    'penalty': ['l1', 'l2'],\n",
    "    'solver': ['liblinear']\n",
    "}\n",
    "\n",
    "# Определение модели с Grid Search и кросс-валидацией\n",
    "grid_search_lr = GridSearchCV(LogisticRegression(max_iter=1000), param_grid_lr, cv=StratifiedKFold(5), scoring='accuracy')\n",
    "\n",
    "# Обучение модели\n",
    "grid_search_lr.fit(X_train_tfidf, y_train)\n",
    "\n",
    "# Сохранение модели и векторизатора\n",
    "with open('src/model_lr.pkl', 'wb') as model_file:\n",
    "    pickle.dump(grid_search_lr.best_estimator_, model_file)\n",
    "\n",
    "with open('src/vectorizer.pkl', 'wb') as vec_file:\n",
    "    pickle.dump(vectorizer, vec_file)\n"
   ]
  },
  {
   "cell_type": "code",
   "execution_count": null,
   "metadata": {},
   "outputs": [],
   "source": []
  }
 ],
 "metadata": {
  "kernelspec": {
   "display_name": "Python 3",
   "language": "python",
   "name": "python3"
  },
  "language_info": {
   "codemirror_mode": {
    "name": "ipython",
    "version": 3
   },
   "file_extension": ".py",
   "mimetype": "text/x-python",
   "name": "python",
   "nbconvert_exporter": "python",
   "pygments_lexer": "ipython3",
   "version": "3.11.9"
  }
 },
 "nbformat": 4,
 "nbformat_minor": 2
}
