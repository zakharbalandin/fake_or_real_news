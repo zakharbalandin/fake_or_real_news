{
  "nbformat": 4,
  "nbformat_minor": 0,
  "metadata": {
    "colab": {
      "provenance": [],
      "gpuType": "T4"
    },
    "kernelspec": {
      "name": "python3",
      "display_name": "Python 3"
    },
    "language_info": {
      "name": "python"
    },
    "accelerator": "GPU"
  },
  "cells": [
    {
      "cell_type": "code",
      "execution_count": null,
      "metadata": {
        "id": "P8HhS_kcfYyn",
        "colab": {
          "base_uri": "https://localhost:8080/"
        },
        "outputId": "afa810e9-237d-4812-f5bf-d09c6bf1d453"
      },
      "outputs": [
        {
          "output_type": "stream",
          "name": "stderr",
          "text": [
            "[nltk_data] Downloading package stopwords to /root/nltk_data...\n",
            "[nltk_data]   Package stopwords is already up-to-date!\n"
          ]
        }
      ],
      "source": [
        "import pandas as pd\n",
        "from sklearn.feature_extraction.text import TfidfVectorizer\n",
        "from sklearn.metrics import accuracy_score, classification_report\n",
        "from sklearn.pipeline import Pipeline\n",
        "from sklearn.linear_model import LogisticRegression\n",
        "from sklearn.naive_bayes import MultinomialNB\n",
        "import xgboost as xgb\n",
        "import re\n",
        "import string\n",
        "import nltk\n",
        "nltk.download('stopwords')\n",
        "from sklearn.model_selection import train_test_split, GridSearchCV, StratifiedKFold\n",
        "from sklearn.feature_extraction.text import TfidfVectorizer\n",
        "from nltk.corpus import stopwords\n",
        "from nltk.stem import WordNetLemmatizer\n",
        "from sklearn.model_selection import RandomizedSearchCV\n",
        "\n",
        "# Загрузка данных\n",
        "data = pd.read_csv('fake_or_real_news.csv')\n"
      ]
    },
    {
      "cell_type": "code",
      "source": [
        "# Разделение данных на признаки (текст) и метки (label)\n",
        "X = data['text']\n",
        "y = data['label']\n",
        "\n",
        "# Разделение на тренировочную и тестовую выборки\n",
        "X_train, X_test, y_train, y_test = train_test_split(X, y, test_size=0.2, random_state=42)\n",
        "\n",
        "# Векторизация текста с помощью TF-IDF\n",
        "tfidf_vectorizer = TfidfVectorizer(stop_words='english', max_df=0.7)\n",
        "\n",
        "X_train_tfidf = tfidf_vectorizer.fit_transform(X_train)\n",
        "X_test_tfidf = tfidf_vectorizer.transform(X_test)"
      ],
      "metadata": {
        "id": "mfqnXCzPtQ8N"
      },
      "execution_count": null,
      "outputs": []
    },
    {
      "cell_type": "code",
      "source": [
        "# Модель логистической регрессии\n",
        "lr_model = LogisticRegression(max_iter=1000)\n",
        "lr_model.fit(X_train_tfidf, y_train)\n",
        "\n",
        "# Предсказание и оценка модели\n",
        "y_pred_lr = lr_model.predict(X_test_tfidf)\n",
        "print(\"Logistic Regression Accuracy: \", accuracy_score(y_test, y_pred_lr))\n",
        "print(classification_report(y_test, y_pred_lr))\n"
      ],
      "metadata": {
        "id": "YnYboKDlfsiF",
        "colab": {
          "base_uri": "https://localhost:8080/"
        },
        "outputId": "237a8c97-3b2b-47fe-f188-1e9bae88c70b"
      },
      "execution_count": null,
      "outputs": [
        {
          "output_type": "stream",
          "name": "stdout",
          "text": [
            "Logistic Regression Accuracy:  0.9155485398579322\n",
            "              precision    recall  f1-score   support\n",
            "\n",
            "        FAKE       0.90      0.93      0.92       628\n",
            "        REAL       0.93      0.90      0.91       639\n",
            "\n",
            "    accuracy                           0.92      1267\n",
            "   macro avg       0.92      0.92      0.92      1267\n",
            "weighted avg       0.92      0.92      0.92      1267\n",
            "\n"
          ]
        }
      ]
    },
    {
      "cell_type": "code",
      "source": [
        "# Модель наивного Байеса\n",
        "nb_model = MultinomialNB()\n",
        "nb_model.fit(X_train_tfidf, y_train)\n",
        "\n",
        "# Предсказание и оценка модели\n",
        "y_pred_nb = nb_model.predict(X_test_tfidf)\n",
        "print(\"Naive Bayes Accuracy: \", accuracy_score(y_test, y_pred_nb))\n",
        "print(classification_report(y_test, y_pred_nb))\n"
      ],
      "metadata": {
        "id": "mqCRhbWufvC7",
        "colab": {
          "base_uri": "https://localhost:8080/"
        },
        "outputId": "d5764161-57ac-4695-f79b-c8eac835f706"
      },
      "execution_count": null,
      "outputs": [
        {
          "output_type": "stream",
          "name": "stdout",
          "text": [
            "Naive Bayes Accuracy:  0.8453038674033149\n",
            "              precision    recall  f1-score   support\n",
            "\n",
            "        FAKE       0.98      0.71      0.82       628\n",
            "        REAL       0.77      0.98      0.87       639\n",
            "\n",
            "    accuracy                           0.85      1267\n",
            "   macro avg       0.87      0.84      0.84      1267\n",
            "weighted avg       0.87      0.85      0.84      1267\n",
            "\n"
          ]
        }
      ]
    },
    {
      "cell_type": "code",
      "source": [
        "# Преобразование меток в числовой формат\n",
        "data['label'] = data['label'].map({'FAKE': 0, 'REAL': 1})\n",
        "\n",
        "# Разделение данных на признаки (текст) и метки (label)\n",
        "X = data['text']\n",
        "y = data['label']\n",
        "\n",
        "# Разделение на тренировочную и тестовую выборки\n",
        "X_train, X_test, y_train, y_test = train_test_split(X, y, test_size=0.2, random_state=42)\n",
        "\n",
        "# Векторизация текста с помощью TF-IDF\n",
        "tfidf_vectorizer = TfidfVectorizer(stop_words='english', max_df=0.7)\n",
        "\n",
        "X_train_tfidf = tfidf_vectorizer.fit_transform(X_train)\n",
        "X_test_tfidf = tfidf_vectorizer.transform(X_test)\n",
        "\n",
        "# Преобразование данных в формат DMatrix для XGBoost\n",
        "dtrain = xgb.DMatrix(X_train_tfidf, label=y_train)\n",
        "dtest = xgb.DMatrix(X_test_tfidf, label=y_test)\n",
        "\n",
        "# Параметры модели\n",
        "params = {\n",
        "    'objective': 'binary:logistic',\n",
        "    'max_depth': 6,\n",
        "    'learning_rate': 0.1,\n",
        "    'n_estimators': 100\n",
        "}\n",
        "\n",
        "# Обучение модели\n",
        "xgb_model = xgb.train(params, dtrain, num_boost_round=100)\n",
        "\n",
        "# Предсказание и оценка модели\n",
        "y_pred_xgb = (xgb_model.predict(dtest) > 0.5).astype(int)\n",
        "print(\"XGBoost Accuracy: \", accuracy_score(y_test, y_pred_xgb))\n",
        "print(classification_report(y_test, y_pred_xgb))\n"
      ],
      "metadata": {
        "id": "xk6dgm6Rgcq-",
        "colab": {
          "base_uri": "https://localhost:8080/"
        },
        "outputId": "1f07e168-5b04-45de-86e4-2feb4580ff95"
      },
      "execution_count": null,
      "outputs": [
        {
          "output_type": "stream",
          "name": "stderr",
          "text": [
            "/usr/local/lib/python3.10/dist-packages/xgboost/core.py:158: UserWarning: [13:52:39] WARNING: /workspace/src/learner.cc:740: \n",
            "Parameters: { \"n_estimators\" } are not used.\n",
            "\n",
            "  warnings.warn(smsg, UserWarning)\n"
          ]
        },
        {
          "output_type": "stream",
          "name": "stdout",
          "text": [
            "XGBoost Accuracy:  0.9123914759273876\n",
            "              precision    recall  f1-score   support\n",
            "\n",
            "           0       0.91      0.91      0.91       628\n",
            "           1       0.92      0.91      0.91       639\n",
            "\n",
            "    accuracy                           0.91      1267\n",
            "   macro avg       0.91      0.91      0.91      1267\n",
            "weighted avg       0.91      0.91      0.91      1267\n",
            "\n"
          ]
        }
      ]
    },
    {
      "cell_type": "code",
      "source": [
        "print(\"XGBoost Accuracy: \", accuracy_score(y_test, y_pred_xgb))"
      ],
      "metadata": {
        "id": "5XtlutMOjKbb",
        "colab": {
          "base_uri": "https://localhost:8080/"
        },
        "outputId": "a55282d9-012b-4178-de31-c773488dd720"
      },
      "execution_count": null,
      "outputs": [
        {
          "output_type": "stream",
          "name": "stdout",
          "text": [
            "XGBoost Accuracy:  0.9123914759273876\n"
          ]
        }
      ]
    },
    {
      "cell_type": "code",
      "source": [
        "from sklearn.model_selection import GridSearchCV, StratifiedKFold\n",
        "from sklearn.linear_model import LogisticRegression\n",
        "import xgboost as xgb\n",
        "\n",
        "# Определение сетки гиперпараметров для логистической регрессии\n",
        "param_grid_lr = {\n",
        "    'C': [0.01, 0.1, 1, 10, 100],\n",
        "    'penalty': ['l1', 'l2'],\n",
        "    'solver': ['liblinear']\n",
        "}\n",
        "\n",
        "# Определение модели с Grid Search и кросс-валидацией\n",
        "grid_search_lr = GridSearchCV(LogisticRegression(max_iter=1000), param_grid_lr, cv=StratifiedKFold(5), scoring='accuracy')\n",
        "\n",
        "# Обучение модели\n",
        "grid_search_lr.fit(X_train_tfidf, y_train)\n",
        "\n",
        "# Лучшая комбинация гиперпараметров\n",
        "print(\"Best Hyperparameters for Logistic Regression: \", grid_search_lr.best_params_)\n",
        "\n",
        "# Оценка производительности на тестовом наборе\n",
        "best_lr = grid_search_lr.best_estimator_\n",
        "y_pred_lr_optimized = best_lr.predict(X_test_tfidf)\n",
        "print(\"Optimized Logistic Regression Accuracy: \", accuracy_score(y_test, y_pred_lr_optimized))\n",
        "print(classification_report(y_test, y_pred_lr_optimized))\n"
      ],
      "metadata": {
        "id": "eNc4c7hAk870",
        "colab": {
          "base_uri": "https://localhost:8080/"
        },
        "outputId": "6590a081-680d-47b2-f011-5b384b869a10"
      },
      "execution_count": null,
      "outputs": [
        {
          "output_type": "stream",
          "name": "stdout",
          "text": [
            "Best Hyperparameters for Logistic Regression:  {'C': 100, 'penalty': 'l2', 'solver': 'liblinear'}\n",
            "Optimized Logistic Regression Accuracy:  0.936069455406472\n",
            "              precision    recall  f1-score   support\n",
            "\n",
            "           0       0.93      0.94      0.94       628\n",
            "           1       0.94      0.93      0.94       639\n",
            "\n",
            "    accuracy                           0.94      1267\n",
            "   macro avg       0.94      0.94      0.94      1267\n",
            "weighted avg       0.94      0.94      0.94      1267\n",
            "\n"
          ]
        }
      ]
    }
  ]
}